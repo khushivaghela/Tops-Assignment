{
 "cells": [
  {
   "cell_type": "markdown",
   "id": "b1b8c86a-6633-4bff-baa7-d631aa14b3f1",
   "metadata": {},
   "source": [
    "# DA - INTRODUCTION TO PYTHON"
   ]
  },
  {
   "cell_type": "code",
   "execution_count": null,
   "id": "21825393-1366-4765-98de-8145905c9faa",
   "metadata": {},
   "outputs": [],
   "source": [
    "#1) What are the types of Applications?\n",
    "Python is widely used for:\n",
    "Web Development, Data Science, Machine Learning, Automation/Scripting, Game Development, Networking, Desktop Applications, Education"
   ]
  },
  {
   "cell_type": "code",
   "execution_count": null,
   "id": "3c797d66-3b03-48b9-82f5-2fc156948bf5",
   "metadata": {},
   "outputs": [],
   "source": [
    "# 2) What is programing?\n",
    "Programming is the process of creating instructions that a computer can follow to perform specific tasks. This involves writing code in various \n",
    "programming languages like c, c++, java,etc., debugging errors, and optimizing performance to develop applications."
   ]
  },
  {
   "cell_type": "code",
   "execution_count": null,
   "id": "1f69b115-533c-419e-8709-d22777ea4962",
   "metadata": {},
   "outputs": [],
   "source": [
    "# 3) What is Python?\n",
    "Python is developed by Guido Van Rossum in 1991 and name is inspired from the show called Monty python comedy circus\n",
    "Python is a high-level, interpreted programming language known for its simplicity and readability. It is widely used for every dominating feild like \n",
    "web development, data analysis, artificial intelligence,etc. due to its extensive libraries and community support."
   ]
  },
  {
   "cell_type": "code",
   "execution_count": 1,
   "id": "e7664133-cac8-4039-a02f-67b8c5659383",
   "metadata": {},
   "outputs": [
    {
     "name": "stdout",
     "output_type": "stream",
     "text": [
      "Number is positive\n"
     ]
    }
   ],
   "source": [
    "# 4) Write a Python program to check if a number is positive, negative or zero.\n",
    "a = 10\n",
    "if a<0:\n",
    "    print(\"Number is negative\")\n",
    "elif a>0:\n",
    "    print(\"Number is positive\")\n",
    "else:\n",
    "    print(\"Number is Zero\")"
   ]
  },
  {
   "cell_type": "code",
   "execution_count": 3,
   "id": "6c38e9b9-88e1-4ec1-a27e-7601d362b3e0",
   "metadata": {},
   "outputs": [
    {
     "name": "stdin",
     "output_type": "stream",
     "text": [
      "enter no 3\n"
     ]
    },
    {
     "name": "stdout",
     "output_type": "stream",
     "text": [
      "6\n"
     ]
    }
   ],
   "source": [
    "# 5)Write a Python program to get the Factorial number of given numbers.\n",
    "a = int(input(\"enter no\"))\n",
    "factorial = 1\n",
    "for i in range(1,a+1):\n",
    "    factorial *=i\n",
    "print(factorial)"
   ]
  },
  {
   "cell_type": "code",
   "execution_count": 3,
   "id": "b7eb2408-7acd-40ae-afa7-337a46860e33",
   "metadata": {},
   "outputs": [
    {
     "name": "stdout",
     "output_type": "stream",
     "text": [
      "1 2 3 5 8 13 \n"
     ]
    }
   ],
   "source": [
    "# 6)Write a Python program to get the Fibonacci series of given range.\n",
    "a = 6\n",
    "n1 = 0\n",
    "n2 = 1\n",
    "next_number = n2\n",
    "count = 1\n",
    "for i in range(6):\n",
    "    print(next_number, end =\" \")\n",
    "    count += 1\n",
    "    n1, n2 = n2, next_number\n",
    "    next_number = n1 +n2\n",
    "print()"
   ]
  },
  {
   "cell_type": "code",
   "execution_count": null,
   "id": "b71a3da4-3882-4015-8692-391d49d526bf",
   "metadata": {},
   "outputs": [],
   "source": [
    "# 7)How memory is managed in Python?\n",
    "Memory management in Python is handled automatically by the Python memory manager, which includes garbage collector, memory pool, reference counting \n",
    "and object-specifier allocators"
   ]
  },
  {
   "cell_type": "code",
   "execution_count": null,
   "id": "9e2e21e1-9a2b-4bce-a846-c088c8a43393",
   "metadata": {},
   "outputs": [],
   "source": [
    "# 8)What is the purpose continuing statement in python?\n",
    "the continue statement is used inside loops to skip the rest of the code inside the loop for the current iteration and proceed directly to the next \n",
    "iteration of the loop. This is useful when you want to bypass certain conditions or actions without terminating the entire loop."
   ]
  },
  {
   "cell_type": "code",
   "execution_count": 3,
   "id": "28758bfa-684d-49fc-9da0-09e45242a16c",
   "metadata": {},
   "outputs": [
    {
     "name": "stdout",
     "output_type": "stream",
     "text": [
      "value of a before swapping 10\n",
      "value of b before swapping 20\n",
      "value of a after swapping 20\n",
      "value of b after swapping 10\n",
      "value of a 10\n",
      "value of b 20\n",
      "10\n",
      "5\n",
      "After Swapping: x = 5  y = 10\n"
     ]
    }
   ],
   "source": [
    "# 9) Write python program that swap two number with temp variable and without temp variable.\n",
    "a = 10\n",
    "b = 20\n",
    "#with temp variable\n",
    "print(\"value of a before swapping\",a)\n",
    "print(\"value of b before swapping\",b)\n",
    "temp = a\n",
    "a = b \n",
    "b = temp\n",
    "print(\"value of a after swapping\",a)\n",
    "print(\"value of b after swapping\",b)\n",
    "\n",
    "#without temp variable using addition and subtraction\n",
    "a = a+b\n",
    "b = a-b\n",
    "a = a-b\n",
    "print(\"value of a\",a)\n",
    "print(\"value of b\",b)\n",
    "\n",
    "x = 10\n",
    "y = 5\n",
    "print(x)\n",
    "print(y)\n",
    "x = x + y \n",
    "y = x - y  \n",
    "x = x - y \n",
    "print(\"After Swapping: x =\", x, \" y =\", y) "
   ]
  },
  {
   "cell_type": "code",
   "execution_count": 5,
   "id": "37e7e766-0810-4d35-8869-35bd58a9d98f",
   "metadata": {},
   "outputs": [
    {
     "name": "stdout",
     "output_type": "stream",
     "text": [
      "Number is odd\n"
     ]
    }
   ],
   "source": [
    "# 10) Write a Python program to find whether a given number is even or odd, print out an appropriate message to the user.\n",
    "a = 23\n",
    "if a/2==0:\n",
    "    print(\"Number is even\")\n",
    "else:\n",
    "    print(\"Number is odd\")"
   ]
  },
  {
   "cell_type": "code",
   "execution_count": 11,
   "id": "2a3d5889-79ee-4c48-a8ae-88b53e4468ad",
   "metadata": {},
   "outputs": [
    {
     "name": "stdin",
     "output_type": "stream",
     "text": [
      "enter letter u\n"
     ]
    },
    {
     "name": "stdout",
     "output_type": "stream",
     "text": [
      "u is vowel\n"
     ]
    }
   ],
   "source": [
    "# 11) Write a Python program to test whether a passed letter is a vowel or not.\n",
    "a = str(input(\"enter letter\"))\n",
    "if a == \"a\":\n",
    "    print(a,\"is vowel\")\n",
    "elif a == \"e\":\n",
    "    print(a,\"is vowel\")\n",
    "elif a == \"i\":\n",
    "    print(a,\"is vowel\")\n",
    "elif a == \"o\":\n",
    "    print(a,\"is vowel\")\n",
    "elif a == \"u\":\n",
    "    print(a,\"is vowel\")\n",
    "else:\n",
    "    print(a,\"is consonent\")"
   ]
  },
  {
   "cell_type": "code",
   "execution_count": 3,
   "id": "6d1a67c3-c891-4878-91a8-a407fafc3ac2",
   "metadata": {},
   "outputs": [
    {
     "name": "stdin",
     "output_type": "stream",
     "text": [
      "enter a 12\n",
      "enter b 12\n",
      "enter c 5\n"
     ]
    },
    {
     "name": "stdout",
     "output_type": "stream",
     "text": [
      "sum is zero\n"
     ]
    }
   ],
   "source": [
    "# 12) Write a Python program to sum of three given integers. However, if two values are equal sum will be zero.\n",
    "a = int(input(\"enter a\"))\n",
    "b = int(input(\"enter b\"))\n",
    "c = int(input(\"enter c\"))\n",
    "if a == b:\n",
    "    print(\"sum is zero\")\n",
    "elif a ==c:\n",
    "    print(\"sum is zero\")\n",
    "elif b == c:\n",
    "    print(\"sum is zero\")\n",
    "else :\n",
    "    print(\"sum is\",a+b+c)"
   ]
  },
  {
   "cell_type": "code",
   "execution_count": 8,
   "id": "56617ddd-6fad-466d-b339-191786cf0e63",
   "metadata": {},
   "outputs": [
    {
     "name": "stdout",
     "output_type": "stream",
     "text": [
      "false\n"
     ]
    }
   ],
   "source": [
    "# 13) Write a Python program that will return true if the two given integer values are equal or their sum or difference is 5.\n",
    "a = 5\n",
    "b = 6\n",
    "if a ==b:\n",
    "    print(\"true\")\n",
    "elif a - b == 5:\n",
    "    print(\"true\")\n",
    "else:\n",
    "    print(\"false\")"
   ]
  },
  {
   "cell_type": "code",
   "execution_count": 31,
   "id": "3c7eb90b-3d84-4da7-b5da-09919baf007a",
   "metadata": {},
   "outputs": [
    {
     "name": "stdin",
     "output_type": "stream",
     "text": [
      "enter number 7\n"
     ]
    },
    {
     "name": "stdout",
     "output_type": "stream",
     "text": [
      "the sum is 28\n"
     ]
    }
   ],
   "source": [
    "# 14)Write a python program to sum of the first n positive integers.\n",
    "a = int(input(\"enter number:\"))\n",
    "if a < 0:\n",
    "    print(\"enter a positive number\")\n",
    "elif a == 0:\n",
    "    print(\"enter number greater than zero\")\n",
    "else:\n",
    "    sum = 0\n",
    "    while(a>0):\n",
    "        sum +=a\n",
    "        a -= 1\n",
    "print(\"the sum is\",sum)"
   ]
  },
  {
   "cell_type": "code",
   "execution_count": 6,
   "id": "04bbeb4c-fd18-4a6a-abc4-db8bef95f6b8",
   "metadata": {},
   "outputs": [
    {
     "data": {
      "text/plain": [
       "12"
      ]
     },
     "execution_count": 6,
     "metadata": {},
     "output_type": "execute_result"
    }
   ],
   "source": [
    "# 15)Write a Python program to calculate the length of a string. \n",
    "a = \"good morning\"\n",
    "len(a)"
   ]
  },
  {
   "cell_type": "code",
   "execution_count": 7,
   "id": "726fbc57-8c06-4d77-badb-d70c8dd585f7",
   "metadata": {},
   "outputs": [
    {
     "name": "stdout",
     "output_type": "stream",
     "text": [
      "4\n"
     ]
    }
   ],
   "source": [
    "# 16) Write a Python program to count the number of characters (character frequency) in a string\n",
    "a = \"betty bought bitter butter\"\n",
    "print(a.count(\"b\"))"
   ]
  },
  {
   "cell_type": "code",
   "execution_count": null,
   "id": "c66f4dd6-5385-41af-9128-44a293b6c64a",
   "metadata": {},
   "outputs": [],
   "source": [
    "# 17)What are negative indexes and why are they used?\n",
    "Negative indexes in Python are used to access elements from the end of a sequence (like lists, strings, or tuples). Negative indexes provide a way to \n",
    "work with elements relative to the sequence end. They start from -1, which refers to the last element, -2 to the second last, and so on."
   ]
  },
  {
   "cell_type": "code",
   "execution_count": 32,
   "id": "acd2f206-e8f1-4fc9-8764-5d63b5261d50",
   "metadata": {},
   "outputs": [
    {
     "name": "stdout",
     "output_type": "stream",
     "text": [
      "2\n"
     ]
    }
   ],
   "source": [
    "# 18)Write a Python program to count occurrences of a substring in a string.\n",
    "a = \"two and two makes four\"\n",
    "b = a.count(\"two\")\n",
    "print(b)"
   ]
  },
  {
   "cell_type": "code",
   "execution_count": 8,
   "id": "9a6d91ed-c2d6-4ff5-ac34-7fd9ad68ced3",
   "metadata": {},
   "outputs": [
    {
     "name": "stdout",
     "output_type": "stream",
     "text": [
      "2\n"
     ]
    }
   ],
   "source": [
    "# 19) Write a Python program to count the occurrences of each word in a given sentence \n",
    "a = \"one and one makes two, two and two makes four\"\n",
    "print(a.count(\"one\"))"
   ]
  },
  {
   "cell_type": "code",
   "execution_count": 64,
   "id": "7b86a6bd-09c0-4a1c-9aed-32973577dbb7",
   "metadata": {},
   "outputs": [
    {
     "name": "stdout",
     "output_type": "stream",
     "text": [
      "Jullow yely\n"
     ]
    }
   ],
   "source": [
    "# 20) Write a Python program to get a single string from two given strings, separated by a space and swap the first two characters of each string.\n",
    "a = \"yellow\"\n",
    "b = \"July\"\n",
    "if len(a)>2 and len(b)>2:\n",
    "    c = b[:2]+ a[2:]\n",
    "    d = a[:2]+ b[2:]\n",
    "    e = c + \" \" + d\n",
    "    print(e)\n",
    "else:\n",
    "    print(\"string should be at least have 2 characters \")"
   ]
  },
  {
   "cell_type": "code",
   "execution_count": 20,
   "id": "f7df0111-4332-4f59-bc4b-aab5fef0fab0",
   "metadata": {},
   "outputs": [
    {
     "name": "stdin",
     "output_type": "stream",
     "text": [
      "enter string: hiii\n"
     ]
    },
    {
     "name": "stdout",
     "output_type": "stream",
     "text": [
      "4\n",
      "hiiiin\n"
     ]
    }
   ],
   "source": [
    "#21) Write a Python program to add 'in' at the end of a given string (length should be at least 3). If the given string already ends with 'ing' then\n",
    "#add 'ly' instead if the string length of the given string is less than 3, leave it unchanged.\n",
    "a = input(\"enter string:\")\n",
    "print(len(a))\n",
    "z = a.replace(\"ing\",\"ly\")\n",
    "if a[-3:] == 'ing':\n",
    "            print(z)\n",
    "elif len(a) >= 3:\n",
    "    print(a + \"in\")\n",
    "elif len(a)<3:\n",
    "    print(a)"
   ]
  },
  {
   "cell_type": "code",
   "execution_count": 38,
   "id": "665e8352-9b47-4804-be59-c9a452dc41af",
   "metadata": {},
   "outputs": [
    {
     "name": "stdin",
     "output_type": "stream",
     "text": [
      "enter string qwertyuiop\n"
     ]
    },
    {
     "name": "stdout",
     "output_type": "stream",
     "text": [
      "length of string is 10\n",
      "string is not multiple of 4\n"
     ]
    }
   ],
   "source": [
    "# 22) Write a Python function to reverses a string if its length is a multipleof 4.\n",
    "a = str(input(\"enter string\"))\n",
    "print(\"length of string is\",len(a))\n",
    "if len(a) % 4 == 0:\n",
    "    print(a[::-1])\n",
    "else:\n",
    "    print(\"string is not multiple of 4\")"
   ]
  },
  {
   "cell_type": "code",
   "execution_count": 81,
   "id": "8551c400-b238-4639-be8c-e8cd3ce3b754",
   "metadata": {},
   "outputs": [
    {
     "name": "stdout",
     "output_type": "stream",
     "text": [
      "yeow\n"
     ]
    }
   ],
   "source": [
    "# 23) Write a Python program to get a string made of the first 2 and the last 2 chars from a given a string. If the string length is less than 2, return\n",
    "#instead of the empty string.\n",
    "a = \"yellow\"\n",
    "d = \"\"\n",
    "if len(a)>2:\n",
    "    b = a[:2]\n",
    "    c = a[4:]\n",
    "    d = b +\"\"+ c\n",
    "    print(d)\n",
    "else:\n",
    "    print(d)"
   ]
  },
  {
   "cell_type": "code",
   "execution_count": 31,
   "id": "968bba76-fbff-4b13-afd5-9ab8d4a7b28b",
   "metadata": {},
   "outputs": [
    {
     "name": "stdout",
     "output_type": "stream",
     "text": [
      "hheyi\n"
     ]
    }
   ],
   "source": [
    "# 24)Write a Python function to insert a string in the middle of a string.\n",
    "a = \"hi\"\n",
    "b = \"hey\"\n",
    "c = b.join(a)\n",
    "print(c)"
   ]
  },
  {
   "cell_type": "code",
   "execution_count": 1,
   "id": "50374823-0fed-4ce8-805e-a9772ca050bb",
   "metadata": {},
   "outputs": [
    {
     "name": "stdout",
     "output_type": "stream",
     "text": [
      "[1, 2, 3, 4]\n",
      "[4, 3, 2, 1]\n"
     ]
    }
   ],
   "source": [
    "#25)What is List? How will you reverse a list?\n",
    "\"\"\"List is one of the types of collection which is ordered and mutuable, using reverse() function list can be reversed\"\"\"\n",
    "a = [1,2,3,4]\n",
    "print(a)\n",
    "a.reverse()\n",
    "print(a)"
   ]
  },
  {
   "cell_type": "code",
   "execution_count": 2,
   "id": "7ef42ff5-8207-4d53-bd2f-2560fc68c997",
   "metadata": {},
   "outputs": [
    {
     "name": "stdout",
     "output_type": "stream",
     "text": [
      "['a', 'b', 'c', 'd']\n",
      "['a', 'b', 'c']\n"
     ]
    }
   ],
   "source": [
    "# 26)How will you remove last object from a list?\n",
    "\"\"\"We can remove last object from list by using remove() function and we can pass object in argument or we can use pop() without argument to remove \n",
    "last object\"\"\"\n",
    "a = [\"a\",\"b\",\"c\",\"d\"]\n",
    "print(a)\n",
    "a.pop()\n",
    "print(a)"
   ]
  },
  {
   "cell_type": "code",
   "execution_count": null,
   "id": "b2e986dd-b266-4b1b-aa83-17e9c397d8fe",
   "metadata": {},
   "outputs": [],
   "source": [
    "# 27)Suppose list1 is [2, 33, 222, 14, and 25], what is list1 [-1]?\n",
    "list1[-1] is 25"
   ]
  },
  {
   "cell_type": "code",
   "execution_count": null,
   "id": "fb63ffa5-5351-49e3-85ae-1ab2b56ce0c5",
   "metadata": {},
   "outputs": [],
   "source": [
    "# 28)Differentiate between append () and extend () methods?\n",
    "append() and extend() both are used to add elements to the end of list but in append() we can add only one elements while in extend() we can add more \n",
    "than one elements at the same time."
   ]
  },
  {
   "cell_type": "code",
   "execution_count": 9,
   "id": "e9778880-6c71-4a80-baa0-54546defe285",
   "metadata": {},
   "outputs": [
    {
     "name": "stdout",
     "output_type": "stream",
     "text": [
      "c is largest\n",
      "a is smallest\n",
      "the addition is: 1399\n"
     ]
    }
   ],
   "source": [
    "# 29) Write a Python function to get the largest number, smallest num and sum of all from a list.\n",
    "a = 100\n",
    "b = 469\n",
    "c = 830\n",
    "if a>b:\n",
    "    print(\"a is largest\")\n",
    "elif b>c:\n",
    "    print(\"b is largest\")\n",
    "else:\n",
    "    print(\"c is largest\")\n",
    "if a<b:\n",
    "    print(\"a is smallest\")\n",
    "elif b<c:\n",
    "    print(\"b is smallest\")\n",
    "else:\n",
    "    print(\"c is smallest\")\n",
    "print(\"the addition is:\",a+b+c)"
   ]
  },
  {
   "cell_type": "code",
   "execution_count": 36,
   "id": "ed17203c-30b2-4166-a8e6-09d48b3c0f4c",
   "metadata": {},
   "outputs": [
    {
     "name": "stdout",
     "output_type": "stream",
     "text": [
      "We can compare two list by comparing them using conditional operator\n",
      "a and b doesn't have same element\n"
     ]
    }
   ],
   "source": [
    "#30)How will you compare two lists? \n",
    "print(\"We can compare two list by comparing them using conditional operator\")\n",
    "a = [1,2,3,4,5]\n",
    "b = [1,2,3,65]\n",
    "if a == b:\n",
    "    print(\"a and b have same elements\")\n",
    "else:\n",
    "    print(\"a and b doesn't have same element\")"
   ]
  },
  {
   "cell_type": "code",
   "execution_count": 85,
   "id": "d588abf9-caac-4940-be01-cae34adb91cb",
   "metadata": {},
   "outputs": [
    {
     "name": "stdout",
     "output_type": "stream",
     "text": [
      "Number of strings where first and last character are same: 4\n"
     ]
    }
   ],
   "source": [
    "#31) Write a Python program to count the number of strings where the string length is 2 or more and the first and last character are same from a given \n",
    "#list of strings.\n",
    "a = [\"abc\", \"xyz\", \"aba\", \"1221\", \"aa\", \"appla\"]\n",
    "count = 0\n",
    "for s in a:\n",
    "    if len(s) >= 2 and s[0] == s[-1]:\n",
    "        count += 1\n",
    "print(\"Number of strings where first and last character are same:\",count) "
   ]
  },
  {
   "cell_type": "code",
   "execution_count": 2,
   "id": "08866221-91ba-428c-9b91-5002ce80ea8d",
   "metadata": {},
   "outputs": [
    {
     "name": "stdout",
     "output_type": "stream",
     "text": [
      "{1, 2, 3, 'ok', 'key'}\n"
     ]
    }
   ],
   "source": [
    "#32)Write a Python program to remove duplicates from a list.\n",
    "a = [\"ok\",1,2,3,\"ok\",3,1,\"key\"]\n",
    "a = set(a)\n",
    "print(a)"
   ]
  },
  {
   "cell_type": "code",
   "execution_count": 9,
   "id": "2bdfe733-ff09-4943-b578-217ac41560b1",
   "metadata": {},
   "outputs": [
    {
     "name": "stdout",
     "output_type": "stream",
     "text": [
      "0\n",
      "list is empty\n"
     ]
    }
   ],
   "source": [
    "#33)Write a Python program to check a list is empty or not.\n",
    "a = []\n",
    "print(len(a))\n",
    "if len(a) > 0:\n",
    "    print(\"list is not empty\")\n",
    "else:\n",
    "    print(\"list is empty\")"
   ]
  },
  {
   "cell_type": "code",
   "execution_count": 28,
   "id": "7908c176-11e6-438a-81ad-98448b1f1edb",
   "metadata": {},
   "outputs": [
    {
     "name": "stdout",
     "output_type": "stream",
     "text": [
      "True\n"
     ]
    }
   ],
   "source": [
    "#34) Write a Python function that takes two lists and returns true if they have at least one common member.\n",
    "def list(list1,list2):\n",
    "    for x in list1:\n",
    "        for y in list2:\n",
    "            if x == y:\n",
    "                print(\"True\")\n",
    "\n",
    "list([1,2,3,4],[3,5,6,7])"
   ]
  },
  {
   "cell_type": "code",
   "execution_count": 89,
   "id": "87aea227-a24e-4712-9ddb-b1a14ee77a0c",
   "metadata": {},
   "outputs": [
    {
     "name": "stdout",
     "output_type": "stream",
     "text": [
      "the first five elements\n",
      "[1, 4, 9, 16, 25]\n",
      "the last five elements\n",
      "[625, 676, 729, 784, 841]\n"
     ]
    }
   ],
   "source": [
    "#35) Write a Python program to generate and print a list of first and last 5 elements where the values are square of numbers between 1 and 30.\n",
    "squares = [a**2 for a in range(1,30)]\n",
    "print(\"the first five elements\")\n",
    "print(squares[:5])\n",
    "print(\"the last five elements\")\n",
    "print(squares[-5:])"
   ]
  },
  {
   "cell_type": "code",
   "execution_count": 95,
   "id": "693a6a16-08d7-4108-8c3b-fbbd72c3a698",
   "metadata": {},
   "outputs": [
    {
     "name": "stdout",
     "output_type": "stream",
     "text": [
      "['hello', 'hey', 'hii', 'okayy', 'okay']\n"
     ]
    }
   ],
   "source": [
    "#36) Write a Python function that takes a list and returns a new list with unique elements of the first list. \n",
    "def unique_elements(input_list):\n",
    "    unique_list = []\n",
    "    for item in input_list:\n",
    "        if item not in unique_list:\n",
    "            unique_list.append(item)\n",
    "    return unique_list\n",
    "\n",
    "my_list = [\"hello\",\"hello\",\"hey\",\"hii\",\"hello\",\"okayy\",\"okay\"]\n",
    "print(unique_elements(my_list))"
   ]
  },
  {
   "cell_type": "code",
   "execution_count": 14,
   "id": "7d026f7c-2852-4936-8ea0-947d83f4e740",
   "metadata": {},
   "outputs": [
    {
     "name": "stdout",
     "output_type": "stream",
     "text": [
      "['hello']\n",
      "type of a before conversion is: <class 'list'>\n",
      "type of a after conversion is:  <class 'str'>\n"
     ]
    }
   ],
   "source": [
    "#37)Write a Python program to convert a list of characters into a string.\n",
    "a = [\"hello\"]\n",
    "print(a)\n",
    "print(\"type of a before conversion is:\",type(a))\n",
    "a = str(a)\n",
    "print(\"type of a after conversion is: \",type(a))"
   ]
  },
  {
   "cell_type": "code",
   "execution_count": 98,
   "id": "53b11340-e499-4ec4-9ff1-b8812ea9e589",
   "metadata": {},
   "outputs": [
    {
     "name": "stdout",
     "output_type": "stream",
     "text": [
      "4\n"
     ]
    }
   ],
   "source": [
    "#38)Write a Python program to select an item randomly from a list.\n",
    "a = [2,4,6,8,0]\n",
    "b = random.choice(a)\n",
    "print(b)"
   ]
  },
  {
   "cell_type": "code",
   "execution_count": 74,
   "id": "bd204fec-11cd-457f-8390-c4de12933563",
   "metadata": {},
   "outputs": [
    {
     "name": "stdout",
     "output_type": "stream",
     "text": [
      "[0, 2, 3, 6, 7, 8, 9]\n",
      "second smallest integer is 2\n"
     ]
    }
   ],
   "source": [
    "#39)Write a Python program to find the second smallest number in a list.\n",
    "a = [7,9,3,6,8,2,0]\n",
    "a.sort()\n",
    "print(a)\n",
    "print(\"second smallest integer is\",a[1])"
   ]
  },
  {
   "cell_type": "code",
   "execution_count": 99,
   "id": "3295f484-96b4-459f-af97-8ede806a60cf",
   "metadata": {},
   "outputs": [
    {
     "name": "stdout",
     "output_type": "stream",
     "text": [
      "Original list: [1, 2, 2, 3, 4, 4, 5]\n",
      "List with unique values: [1, 2, 3, 4, 5]\n"
     ]
    }
   ],
   "source": [
    "#40)Write a Python program to get unique values from a list\n",
    "my_list = [1, 2, 2, 3, 4, 4, 5]\n",
    "unique_list = []\n",
    "for item in my_list:\n",
    "    if item not in unique_list:\n",
    "        unique_list.append(item)\n",
    "print(\"Original list:\", my_list)\n",
    "print(\"List with unique values:\", unique_list)"
   ]
  },
  {
   "cell_type": "code",
   "execution_count": 24,
   "id": "e13cb56b-ad83-4dc4-9b89-10e99f4da8f7",
   "metadata": {},
   "outputs": [
    {
     "name": "stdout",
     "output_type": "stream",
     "text": [
      "It contains sublist? False\n"
     ]
    }
   ],
   "source": [
    "#41)Write a Python program to check whether a list contains a sub list\n",
    "# Sample data\n",
    "a = [1, 2, 3, 4, 5]\n",
    "b = [6,7]\n",
    "sub_list_length = len(b)\n",
    "main_list_length = len(a)\n",
    "contains = False\n",
    "for i in range(main_list_length - sub_list_length + 1):\n",
    "    if main_list[i:i + sub_list_length] == b:\n",
    "        contains = True\n",
    "        break\n",
    "print(\"It contains sublist?\",contains)"
   ]
  },
  {
   "cell_type": "code",
   "execution_count": 7,
   "id": "b778e738-1784-4551-ab57-81ba1144c67d",
   "metadata": {},
   "outputs": [
    {
     "name": "stdout",
     "output_type": "stream",
     "text": [
      "before splitting [1, 2, 3, 4]\n",
      "after splitting them in different variables\n",
      "1\n",
      "2\n",
      "3\n",
      "4\n"
     ]
    }
   ],
   "source": [
    "#42)Write a Python program to split a list into different variables.\n",
    "a = [1,2,3,4]\n",
    "print(\"before splitting\",a)\n",
    "(w,x,y,z) = a\n",
    "print(\"after splitting them in different variables\")\n",
    "print(w)\n",
    "print(x)\n",
    "print(y)\n",
    "print(z)"
   ]
  },
  {
   "cell_type": "code",
   "execution_count": null,
   "id": "3338baad-9eda-44fb-94ff-554c64c3efd2",
   "metadata": {},
   "outputs": [],
   "source": [
    "#43)What is tuple? Difference between list and tuple.\n",
    "Tuple is one type of collection which can store values of different types.\n",
    "\n",
    "The difference between tuple and list is that:\n",
    "list is mutable and tuple is not mutable\n",
    "List is denoted with [] and Tuple is denoted with ()\n",
    "List is reversable and tuple is not"
   ]
  },
  {
   "cell_type": "code",
   "execution_count": 40,
   "id": "033ce88f-2e89-4f15-b1a3-643fe35c6347",
   "metadata": {},
   "outputs": [
    {
     "name": "stdout",
     "output_type": "stream",
     "text": [
      "('hello', 23, 'true', (4+7j), 2.9)\n"
     ]
    }
   ],
   "source": [
    "#44)Write a Python program to create a tuple with different data types.\n",
    "a = (\"hello\",23,\"true\",4+7j,2.9)\n",
    "print(a)"
   ]
  },
  {
   "cell_type": "code",
   "execution_count": 8,
   "id": "f32a6966-f276-477b-bc03-596f1725b9b3",
   "metadata": {},
   "outputs": [
    {
     "name": "stdout",
     "output_type": "stream",
     "text": [
      "['h', 'e', 'l', 'l', 'o']\n",
      "['h', 'i']\n",
      "['h', 'e', 'y']\n",
      "['h', 'i', 'i', 'i']\n"
     ]
    }
   ],
   "source": [
    "#45)Write a Python program to unzip a list of tuples into individual lists.\n",
    "a = (\"hello\",\"hi\",\"hey\",\"hiii\")\n",
    "(w,x,y,z) = a\n",
    "w = list(w)\n",
    "print(w)\n",
    "x = list(x)\n",
    "print(x)\n",
    "y = list(y)\n",
    "print(y)\n",
    "z = list(z)\n",
    "print(z)"
   ]
  },
  {
   "cell_type": "code",
   "execution_count": 59,
   "id": "9af7796e-9f1e-4ef2-89e4-f95d06b03d24",
   "metadata": {},
   "outputs": [
    {
     "name": "stdout",
     "output_type": "stream",
     "text": [
      "('hi', 3, 'ok', 67)\n",
      "type before <class 'str'>\n",
      "{'hi': 1, 3: 2, 'ok': 3, 67: 4}\n",
      "type after <class 'dict'>\n"
     ]
    }
   ],
   "source": [
    "#46)Write a Python program to convert a list of tuples into a dictionary.\n",
    "tup = (\"hi\",3,\"ok\",67)\n",
    "print(tup)\n",
    "print(\"type before\",type(a))\n",
    "b = (1,2,3,4)\n",
    "dictionary = dict(zip(tup,b))\n",
    "print(dictionary)\n",
    "print(\"type after\",type(dictionary))"
   ]
  },
  {
   "cell_type": "code",
   "execution_count": null,
   "id": "3a9a4499-31ba-4d89-ac87-d1310b8b606e",
   "metadata": {},
   "outputs": [],
   "source": [
    "#47)How will you create a dictionary using tuples in python?\n",
    "using dict() function we can convert a tuple to a dictionary. A dictionary object can be created with the dict() function. The dictionary is returned \n",
    "by the dict() method, which takes a tuple of tuples as an argument. A key-value pair is contained in each tuple"
   ]
  },
  {
   "cell_type": "code",
   "execution_count": 53,
   "id": "747b4206-fbe1-4046-bc8b-cb5d32173cfe",
   "metadata": {},
   "outputs": [
    {
     "name": "stdout",
     "output_type": "stream",
     "text": [
      "the original dictionart {'name': 2, 'id': 1, 'address': 3, 'education': 4}\n",
      "{'id': 1, 'name': 2, 'address': 3, 'education': 4}\n",
      "{'education': 4, 'address': 3, 'name': 2, 'id': 1}\n"
     ]
    }
   ],
   "source": [
    "#48)Write a Python script to sort (ascending and descending) a dictionary by value.\n",
    "a = {\n",
    "    \"name\" : 2,\n",
    "    \"id\" : 1,\n",
    "    \"address\" : 3,\n",
    "    \"education\" : 4\n",
    "}\n",
    "print(\"the original dictionart\",a)\n",
    "c = dict(sorted(a.items(), key =lambda item: item[1]))\n",
    "print(c)\n",
    "d = dict(sorted(a.items(), key =lambda item: item[1],reverse=True ))\n",
    "print(d)"
   ]
  },
  {
   "cell_type": "code",
   "execution_count": 102,
   "id": "94deb693-7f91-4442-a770-50dd348a8b17",
   "metadata": {},
   "outputs": [
    {
     "name": "stdout",
     "output_type": "stream",
     "text": [
      "{'name': 'Khushi', 'age': 21}\n"
     ]
    }
   ],
   "source": [
    "#49)Write a Python script to concatenate following dictionaries to create a new one.\n",
    "a = {\n",
    "    \"name\" : \"Khushi\"\n",
    "}\n",
    "b = {\n",
    "    \"age\" : 21\n",
    "}\n",
    "c = {**a,**b}\n",
    "print(c)"
   ]
  },
  {
   "cell_type": "code",
   "execution_count": 107,
   "id": "3ad23749-13d0-40bd-ac7d-95985a60640d",
   "metadata": {},
   "outputs": [
    {
     "name": "stdout",
     "output_type": "stream",
     "text": [
      "no, it doesn't exist\n"
     ]
    }
   ],
   "source": [
    "#50)Write a Python script to check if a given key already exists in a dictionary.\n",
    "a = {\n",
    "    \"name\" : \"khushi\",\n",
    "    \"age\" : 21,\n",
    "    \"number\" : 1,\n",
    "    \"college\" : \"GIT\"\n",
    "}\n",
    "if \"agee\" in a:\n",
    "    print(\"it exist\")\n",
    "else:\n",
    "    print(\"no, it doesn't exist\")"
   ]
  },
  {
   "cell_type": "code",
   "execution_count": 58,
   "id": "729c7055-d72f-44eb-a152-28cef767f1c5",
   "metadata": {},
   "outputs": [
    {
     "name": "stdout",
     "output_type": "stream",
     "text": [
      "name khushi\n",
      "age 21\n",
      "gender female\n",
      "degree engineering\n"
     ]
    }
   ],
   "source": [
    "#51)How Do You Traverse Through a Dictionary Object in Python?\n",
    "#We can traverse through a dictionary object in python by using built-in object likes values(), keys() and if we want both keys and values we can use \n",
    "#items() and can fetch them through loop or indexing.\n",
    "data = {\n",
    "    \"name\" : \"khushi\",\n",
    "    \"age\" : 21,\n",
    "    \"gender\" : \"female\",\n",
    "    \"degree\" : \"engineering\"\n",
    "}\n",
    "for x,y in data.items():\n",
    "    print(x,y)"
   ]
  },
  {
   "cell_type": "code",
   "execution_count": 60,
   "id": "4c3af713-af10-4f28-ae46-3594232091f5",
   "metadata": {},
   "outputs": [
    {
     "name": "stdout",
     "output_type": "stream",
     "text": [
      "name\n",
      "age\n",
      "gender\n",
      "degree\n"
     ]
    }
   ],
   "source": [
    "#52)How Do You Check the Presence of a Key in A Dictionary?\n",
    "\"\"\"The get() method returns a list of available keys in the dictionary. With keys(), use the if statement to check whether the key is present or\n",
    "not in the dictionary.\"\"\"\n",
    "data = {\n",
    "    \"name\" : \"khushi\",\n",
    "    \"age\" : 21,\n",
    "    \"gender\" : \"female\",\n",
    "    \"degree\" : \"engineering\"\n",
    "}\n",
    "for x in data.keys():\n",
    "    print(x)"
   ]
  },
  {
   "cell_type": "code",
   "execution_count": 68,
   "id": "9f77653f-3809-4bf9-8604-a7628f84945e",
   "metadata": {},
   "outputs": [
    {
     "name": "stdout",
     "output_type": "stream",
     "text": [
      "Mapped dictionary: {'c': 1, 'b': 2, 'e': 3, 'd': 4, 'a': 5}\n",
      "1 c\n",
      "2 b\n",
      "3 e\n",
      "4 d\n",
      "5 a\n"
     ]
    }
   ],
   "source": [
    "#53)Write a Python script to print a dictionary where the keys are numbers between 1 and 15.\n",
    "d = {\"a\",\"b\",\"c\",\"d\",\"e\"}\n",
    "l = [1,2,3,4,5]\n",
    "mapped_dict = dict(zip(d, l))\n",
    "print(\"Mapped dictionary:\", mapped_dict)\n",
    "for d,l in mapped_dict.items():\n",
    "    print(l,d)"
   ]
  },
  {
   "cell_type": "code",
   "execution_count": null,
   "id": "e1f1eee4-8da1-45b2-a268-88b58ec7c069",
   "metadata": {},
   "outputs": [],
   "source": [
    "54)Write a Python program to check multiple keys exists in a dictionary\n",
    "\"\"\"Multiple keys doesn't exist in dictionary\"\"\""
   ]
  },
  {
   "cell_type": "code",
   "execution_count": 116,
   "id": "0a80bc06-51b7-4f10-be9a-4741d933399d",
   "metadata": {},
   "outputs": [
    {
     "name": "stdout",
     "output_type": "stream",
     "text": [
      "{'num': 6970, 'num1': 560, 'num2': 4500, 'num3': 697, 'num4': 50, 'num5': 500}\n"
     ]
    }
   ],
   "source": [
    "#55)Write a Python script to merge two Python dictionaries\n",
    "a = {\n",
    "    \"num\" : 6970,\n",
    "    \"num1\" : 560,\n",
    "    \"num2\" : 4500\n",
    "}\n",
    "b = {\n",
    "    \"num3\" : 697,\n",
    "    \"num4\" : 50,\n",
    "    \"num5\" : 500\n",
    "}\n",
    "z = a.copy()\n",
    "y = {**a,**b}\n",
    "print(y)"
   ]
  },
  {
   "cell_type": "code",
   "execution_count": 112,
   "id": "f9f191ce-3e67-4e51-9804-f17afbdb90bc",
   "metadata": {},
   "outputs": [
    {
     "name": "stdout",
     "output_type": "stream",
     "text": [
      "Mapped dictionary: {'a': 400, 'b': 400, 'd': 400, 'c': 300}\n"
     ]
    }
   ],
   "source": [
    "#56)Write a Python program to map two lists into a dictionary  Sample output: Counter ({'a': 400, 'b': 400,’d’: 400, 'c': 300}). \n",
    "keys = ['a', 'b', 'd', 'c']\n",
    "values = [400, 400, 400, 300]\n",
    "mapped_dict = dict(zip(keys, values))\n",
    "print(\"Mapped dictionary:\", mapped_dict)"
   ]
  },
  {
   "cell_type": "code",
   "execution_count": 31,
   "id": "3280dcd4-b015-44a3-9f4e-a42f353cd20f",
   "metadata": {},
   "outputs": [
    {
     "name": "stdout",
     "output_type": "stream",
     "text": [
      "a is greater\n"
     ]
    }
   ],
   "source": [
    "#57)Write a Python program to find the highest 3 values in a dictionary\n",
    "a = {\n",
    "    \"num\" : 6970,\n",
    "    \"num1\" : 560,\n",
    "    \"num2\" : 4500\n",
    "}\n",
    "if a[\"num\"]>a[\"num1\"] and a[\"num\"]>a[\"num2\"]:\n",
    "    print(\"a is greater\")\n",
    "elif a[\"num1\"]>a[\"num\"] and a[\"num1\"]>a[\"num2\"]:\n",
    "    print(\"b is greater\")\n",
    "else:\n",
    "    print(\"c is greater\")"
   ]
  },
  {
   "cell_type": "code",
   "execution_count": 45,
   "id": "0c1b5377-fa18-445e-92b4-0b6f19fed659",
   "metadata": {},
   "outputs": [
    {
     "name": "stdout",
     "output_type": "stream",
     "text": [
      "{'item1': 1150, 'item2': 300}\n"
     ]
    }
   ],
   "source": [
    "#58)Write a Python program to combine values in python list of dictionaries.\n",
    "#Sample data: [{'item': 'item1', 'amount': 400}, {'item': 'item2', 'amount':300}, o {'item': 'item1', 'amount': 750}]\n",
    "#Expected Output: • Counter ({'item1': 1150, 'item2': 300})\n",
    "data = [{'item': 'item1', 'amount': 400}, \n",
    "        {'item': 'item2', 'amount': 300}, \n",
    "        {'item': 'item1', 'amount': 750}]\n",
    "combined = {}\n",
    "\n",
    "for entry in data:\n",
    "    item = entry['item']\n",
    "    amount = entry[\"amount\"]\n",
    "    if item in combined:\n",
    "        combined[item]+= amount\n",
    "    else:\n",
    "        combined[item] = amount\n",
    "\n",
    "print(combined)"
   ]
  },
  {
   "cell_type": "code",
   "execution_count": 56,
   "id": "3fe724ec-8bde-4e0e-8e5c-cf18d5cfd10b",
   "metadata": {},
   "outputs": [
    {
     "name": "stdout",
     "output_type": "stream",
     "text": [
      "length of string is  26\n",
      "elements: {'b': 4, 'e': 3, 't': 7, 'y': 1, ' ': 3, 'o': 1, 'u': 2, 'g': 1, 'h': 1, 'i': 1, 'r': 2}\n",
      "betty\n",
      "type before <class 'str'>\n",
      "{'b': 1, 'e': 2, 't': 4, 'y': 5}\n",
      "after : <class 'dict'>\n"
     ]
    }
   ],
   "source": [
    "#59)Write a Python program to create a dictionary from a string. \n",
    "#Note: Track the count of the letters from the string.\n",
    "a = \"betty bought bitter butter\"\n",
    "print(\"length of string is \",len(a))\n",
    "b = {}\n",
    "for x in a:\n",
    "    if x in b:\n",
    "        b[x] +=1\n",
    "    else:\n",
    "        b[x] = 1\n",
    "print(\"elements:\",b)\n",
    "#or\n",
    "a = \"betty\"\n",
    "print(a)\n",
    "print(\"type before\",type(a))\n",
    "b = [1,2,3,4,5]\n",
    "dictionary = dict(zip(a,b))\n",
    "print(dictionary)\n",
    "print(\"after :\",type(dictionary))"
   ]
  },
  {
   "cell_type": "code",
   "execution_count": 35,
   "id": "998dfe80-560d-473b-82e6-7b5aabbe1d49",
   "metadata": {},
   "outputs": [
    {
     "name": "stdout",
     "output_type": "stream",
     "text": [
      "elements : {'w': 1, '3': 1, 'r': 2, 'e': 2, 's': 1, 'o': 1, 'u': 1, 'c': 1}\n"
     ]
    }
   ],
   "source": [
    "#60)Sample string:\n",
    "# 'w3resource' Expected output:\n",
    "#• {'3': 1,’s’: 1, 'r': 2, 'u': 1, 'w': 1, 'c': 1, 'e': 2, 'o': 1}\n",
    "b = \"w3resource\"\n",
    "a = {}\n",
    "for x in b:\n",
    "    if x in a:\n",
    "        a[x] += 1\n",
    "    else:\n",
    "        a[x] = 1\n",
    "print(\"elements :\" ,a)"
   ]
  },
  {
   "cell_type": "code",
   "execution_count": 45,
   "id": "e1a125ab-4e9e-492e-a994-a54b04aa5d23",
   "metadata": {},
   "outputs": [
    {
     "name": "stdout",
     "output_type": "stream",
     "text": [
      "the factorial is 40320\n"
     ]
    }
   ],
   "source": [
    "#61)Write a Python function to calculate the factorial of a number (a nonnegative integer)\n",
    "def factorial(n):\n",
    "    if n < 0:\n",
    "        print(\"Enter positive number\")\n",
    "    if n == 0 or n == 1:\n",
    "        return 1\n",
    "    result = 1\n",
    "    for i in range(2, n + 1):\n",
    "        result *= i\n",
    "    return result\n",
    "\n",
    "print(\"the factorial is\",factorial(8))"
   ]
  },
  {
   "cell_type": "code",
   "execution_count": 12,
   "id": "35120cad-ea5f-4ce4-8714-85093e0c5c4f",
   "metadata": {},
   "outputs": [
    {
     "name": "stdout",
     "output_type": "stream",
     "text": [
      "number exist\n",
      "no\n"
     ]
    }
   ],
   "source": [
    "#62)Write a Python function to check whether a number is in a given range\n",
    "for n in range(10):\n",
    "    if n == 8:\n",
    "        print(\"number exist\")\n",
    "else:\n",
    "    print(\"no\")"
   ]
  },
  {
   "cell_type": "code",
   "execution_count": 20,
   "id": "43b609db-c69e-44d3-8754-af02429a5f41",
   "metadata": {},
   "outputs": [
    {
     "name": "stdout",
     "output_type": "stream",
     "text": [
      "8 is not a perfect number.\n"
     ]
    }
   ],
   "source": [
    "#63)Write a Python function to check whether a number is perfect or not.\n",
    "def number(n):\n",
    "    if n <= 1:\n",
    "        print(n,\"is not a perfect number.\")\n",
    "    \n",
    "    divisors_sum = 0\n",
    "    for i in range(1, n):\n",
    "        if n % i == 0:\n",
    "            divisors_sum += i\n",
    "    \n",
    "    if divisors_sum == n:\n",
    "        print(n,\" is a perfect number.\")\n",
    "    else:\n",
    "        print(n,\"is not a perfect number.\")\n",
    "\n",
    "number(8)"
   ]
  },
  {
   "cell_type": "code",
   "execution_count": 3,
   "id": "a7b8140a-9c76-45e2-87a6-5bbea9e704d6",
   "metadata": {},
   "outputs": [
    {
     "name": "stdout",
     "output_type": "stream",
     "text": [
      "palindrome\n"
     ]
    }
   ],
   "source": [
    "#64)Write a Python function that checks whether a passed string is palindrome or not\n",
    "def palindrome(string):\n",
    "    if string == string[::-1]:\n",
    "        print(\"palindrome\")\n",
    "    else:\n",
    "        print(\"not palindrome\")\n",
    "\n",
    "palindrome(\"naman\")"
   ]
  },
  {
   "cell_type": "code",
   "execution_count": null,
   "id": "929fb288-8181-43c3-bc98-652d10e6abf8",
   "metadata": {},
   "outputs": [],
   "source": [
    "#65)How Many Basic Types of Functions Are Available in Python?\n",
    "There are two types of functions available in Python which are built-in and user defined, built-in functions are already pre-made and we can directly \n",
    "excess and user-defined functions are customized by using keyword def"
   ]
  },
  {
   "cell_type": "code",
   "execution_count": 51,
   "id": "fac4c751-26b9-4398-a699-aba201482f2a",
   "metadata": {},
   "outputs": [
    {
     "name": "stdout",
     "output_type": "stream",
     "text": [
      "9\n"
     ]
    }
   ],
   "source": [
    "#66)How can you pick a random item from a list or tuple?\n",
    "a = [2,5,7,9]\n",
    "import random\n",
    "b = random.choice(a)\n",
    "print(b)"
   ]
  },
  {
   "cell_type": "code",
   "execution_count": 19,
   "id": "c9b77496-bf2f-46c9-98d6-64a47159d2c4",
   "metadata": {},
   "outputs": [
    {
     "name": "stdout",
     "output_type": "stream",
     "text": [
      "4\n"
     ]
    }
   ],
   "source": [
    "#67)How can you pick a random item from a range?\n",
    "\"\"\"you can use random modules randrange() or can use randchoice() to choose random from range \"\"\"\n",
    "import random\n",
    "print(random.randrange(1,10))"
   ]
  },
  {
   "cell_type": "code",
   "execution_count": 13,
   "id": "50283c83-c89f-4b27-bd8f-461ffb43ae99",
   "metadata": {},
   "outputs": [
    {
     "name": "stdout",
     "output_type": "stream",
     "text": [
      "0.6390343894540702\n"
     ]
    }
   ],
   "source": [
    "#68)How can you get a random number in python?\n",
    "\"\"\"We can get random number in python using random module\"\"\"\n",
    "import random\n",
    "print(random.random())"
   ]
  },
  {
   "cell_type": "code",
   "execution_count": null,
   "id": "88e9a95c-f1d5-4f30-a63f-b00be89d07c3",
   "metadata": {},
   "outputs": [],
   "source": [
    "#69)How will you set the starting value in generating random numbers? \n",
    "After importing random module, in randchoice() we can give start and end and it will return number between this range."
   ]
  },
  {
   "cell_type": "code",
   "execution_count": null,
   "id": "410f5486-506a-448c-bf54-c7842219973b",
   "metadata": {},
   "outputs": [],
   "source": [
    "#70) How will you randomize the items of a list in place?\n",
    "You can randomize the items of a list in place using the shuffle() function from the random module."
   ]
  },
  {
   "cell_type": "code",
   "execution_count": null,
   "id": "c557afca-00d4-4d6d-bd45-a8cfbc09cf83",
   "metadata": {},
   "outputs": [],
   "source": [
    "#71)What is File function in python? What are keywords to create and write file.\n",
    "File functions are used to handle file operations such as opening, reading, writing, and closing files. \n",
    "The keywords for writing is \"w\" and to write we use .write() and for creating file is open(\"filename.txt\",\"x\")"
   ]
  },
  {
   "cell_type": "code",
   "execution_count": 7,
   "id": "b9e44783-46f4-44b3-8e40-2e70e1cfb42a",
   "metadata": {},
   "outputs": [
    {
     "name": "stdout",
     "output_type": "stream",
     "text": [
      "hello, good morning, how are you?\n"
     ]
    }
   ],
   "source": [
    "#72)Write a Python program to read an entire text file. \n",
    "\"\"\"reading the file\"\"\"\n",
    "s = open(\"file.txt\",\"r\")\n",
    "print(s.read())\n",
    "s.close()"
   ]
  },
  {
   "cell_type": "code",
   "execution_count": 13,
   "id": "158aa55c-4fdc-4806-8d4f-a9838ad71118",
   "metadata": {},
   "outputs": [
    {
     "name": "stdout",
     "output_type": "stream",
     "text": [
      "hello, good morning, how are you?\n",
      "hello, good morning, how are you?Today is wednesday\n"
     ]
    }
   ],
   "source": [
    "#73)Write a Python program to append text to a file and display the text.\n",
    "\"\"\"reading the file\"\"\"\n",
    "s = open(\"file.txt\",\"r\")\n",
    "print(s.read())\n",
    "s.close()\n",
    "\"\"\"appending text\"\"\"\n",
    "s = open(\"file.txt\",\"a\")\n",
    "s.write(\"Today is wednesday\")\n",
    "s.close()\n",
    "\"\"\"printing updated file\"\"\"\n",
    "s = open(\"file.txt\",\"r\")\n",
    "print(s.read())\n",
    "s.close()"
   ]
  },
  {
   "cell_type": "code",
   "execution_count": 17,
   "id": "b61879d5-8d97-4197-8201-ebcf55d0681a",
   "metadata": {},
   "outputs": [
    {
     "name": "stdout",
     "output_type": "stream",
     "text": [
      "hello,\n",
      "good morning,\n",
      "how are you?\n",
      "Today is wednesday\n",
      "Tomorrow is thursday\n"
     ]
    }
   ],
   "source": [
    "#74)Write a Python program to read first n lines of a file.\n",
    "s = \"file.txt\"\n",
    "n = 5\n",
    "s = open(\"file.txt\",\"r\")\n",
    "for i in range(n):\n",
    "    line = s.readline()\n",
    "    if not line:\n",
    "        break\n",
    "    print(line.strip())"
   ]
  },
  {
   "cell_type": "code",
   "execution_count": 20,
   "id": "205af362-1417-46b2-b64c-35f168f2b13d",
   "metadata": {},
   "outputs": [
    {
     "name": "stdout",
     "output_type": "stream",
     "text": [
      "how are you?\n",
      "Today is wednesday\n",
      "Tomorrow is thursday\n",
      "Day after tomorrow will be thursday\n",
      "And after that weekend starts\n"
     ]
    }
   ],
   "source": [
    "#75)Write a Python program to read last n lines of a file.\n",
    "s = \"file.txt\"\n",
    "n = 5\n",
    "s = open(\"file.txt\",\"r\")\n",
    "line = s.readlines()\n",
    "last_line = line[-n:]\n",
    "for line in last_line:\n",
    "    print(line.strip())"
   ]
  },
  {
   "cell_type": "code",
   "execution_count": 13,
   "id": "c2db846e-2828-408b-87c8-f1f3d69def8d",
   "metadata": {},
   "outputs": [
    {
     "name": "stdout",
     "output_type": "stream",
     "text": [
      "['hello,', 'good morning,', 'how are you?', 'Today is wednesday', 'Tomorrow is thursday', 'Day after tomorrow will be thursday', 'And after that weekend starts']\n",
      "<class 'list'>\n"
     ]
    }
   ],
   "source": [
    "#76)Write a Python program to read a file line by line and store it into a list\n",
    "s = open(\"file.txt\",\"r\")\n",
    "a = []\n",
    "for x in s:\n",
    "    a.append(x.strip())\n",
    "print(a)\n",
    "print(type(a))"
   ]
  },
  {
   "cell_type": "code",
   "execution_count": 14,
   "id": "5e0b2b07-d384-4e72-8d65-d4573ae6a372",
   "metadata": {},
   "outputs": [
    {
     "name": "stdout",
     "output_type": "stream",
     "text": [
      "hello, \n",
      "good morning, \n",
      "how are you?\n",
      "Today is wednesday\n",
      "Tomorrow is thursday\n",
      "Day after tomorrow will be thursday\n",
      "And after that weekend starts\n"
     ]
    }
   ],
   "source": [
    "#77)Write a Python program to read a file line by line store it into a variable.\n",
    "s = open(\"file.txt\",\"r\")\n",
    "a = \"\"\n",
    "for x in s:\n",
    "    a+=x\n",
    "print(a)"
   ]
  },
  {
   "cell_type": "code",
   "execution_count": 14,
   "id": "4f992d70-c28b-4a22-8624-50bb58d5e4a1",
   "metadata": {},
   "outputs": [
    {
     "name": "stdout",
     "output_type": "stream",
     "text": [
      "['Definationofthegood']\n"
     ]
    }
   ],
   "source": [
    "#78)Write a python program to find the longest words.\n",
    "s = open(\"file.txt\", \"r\")\n",
    "text = s.read()\n",
    "words = text.split()\n",
    "max_len = 0\n",
    "longest = []\n",
    "for word in words:\n",
    "    if len(word) > max_len:\n",
    "        max_len = len(word)\n",
    "for word in words:\n",
    "    if len(word) == max_len:\n",
    "        longest.append(word)\n",
    "print(longest)"
   ]
  },
  {
   "cell_type": "code",
   "execution_count": 17,
   "id": "148f5619-d015-4b15-b769-c918a19fd783",
   "metadata": {},
   "outputs": [
    {
     "name": "stdout",
     "output_type": "stream",
     "text": [
      "7\n"
     ]
    }
   ],
   "source": [
    "#79)Write a Python program to count the number of lines in a text file.\n",
    "s = open(\"file.txt\",\"r\")\n",
    "count = 0\n",
    "for x in s:\n",
    "    count+=1\n",
    "print(count)"
   ]
  },
  {
   "cell_type": "code",
   "execution_count": 28,
   "id": "54888db5-2119-4768-a280-e0ec348345eb",
   "metadata": {},
   "outputs": [
    {
     "name": "stdout",
     "output_type": "stream",
     "text": [
      "hello, : 1\n",
      "good : 1\n",
      "morning, : 1\n",
      "how : 1\n",
      "are : 1\n",
      "you? : 1\n",
      "today : 1\n",
      "is : 2\n",
      "wednesday : 1\n",
      "tomorrow : 2\n",
      "thursday : 2\n",
      "day : 1\n",
      "after : 2\n",
      "will : 1\n",
      "be : 1\n",
      "and : 1\n",
      "that : 1\n",
      "weekend : 1\n",
      "starts : 1\n",
      "definationofthegood : 1\n",
      "[1,2,3] : 1\n"
     ]
    }
   ],
   "source": [
    "#80)Write a Python program to count the frequency of words in a file.\n",
    "text = open(\"file.txt\", \"r\") \n",
    "d = dict() \n",
    "for line in text:\n",
    "    line = line.strip() \n",
    "    line = line.lower() \n",
    "    words = line.split(\" \") \n",
    "    for word in words: \n",
    "        if word in d: \n",
    "            d[word] = d[word] + 1\n",
    "        else: \n",
    "            d[word] = 1\n",
    "for key in list(d.keys()): \n",
    "\tprint(key, \":\", d[key]) "
   ]
  },
  {
   "cell_type": "code",
   "execution_count": 28,
   "id": "7abea204-6557-4630-8be7-89d5e39c385f",
   "metadata": {},
   "outputs": [
    {
     "name": "stdout",
     "output_type": "stream",
     "text": [
      "hello, \n",
      "good morning, \n",
      "how are you?\n",
      "Today is wednesday\n",
      "Tomorrow is thursday\n",
      "Day after tomorrow will be thursday\n",
      "And after that weekend starts\n",
      "[1,2,3]\n"
     ]
    }
   ],
   "source": [
    "#81)Write a Python program to write a list to a file.\n",
    "s = open(\"file.txt\",\"a\")\n",
    "s.write(\"\\n[1,2,3]\")\n",
    "s.close()\n",
    "s = open(\"file.txt\",\"r\")\n",
    "print(s.read())\n",
    "s.close()"
   ]
  },
  {
   "cell_type": "code",
   "execution_count": 4,
   "id": "caf8ba0e-9868-403b-ba7d-d724f0a8cd4c",
   "metadata": {},
   "outputs": [
    {
     "name": "stdout",
     "output_type": "stream",
     "text": [
      "work done\n"
     ]
    }
   ],
   "source": [
    "#82)Write a Python program to copy the contents of a file to another file.\n",
    "s = open(\"file.txt\",\"r\")\n",
    "a = open(\"file2.txt\",\"w\")\n",
    "a.write(s.read())\n",
    "print(\"work done\")\n",
    "a.close()\n",
    "s.close()\n",
    "#you can see the output in file 2"
   ]
  },
  {
   "cell_type": "code",
   "execution_count": null,
   "id": "5293bb77-9ea2-4164-9e71-e76de3f3ff06",
   "metadata": {},
   "outputs": [],
   "source": [
    "#83)Explain Exception handling? What is an Error in Python?\n",
    "When an error occurs while executing the program, python will throw error which means that the given input cannot be compiled and to handle such errors\n",
    "we use error handling also known as exception handling"
   ]
  },
  {
   "cell_type": "code",
   "execution_count": 14,
   "id": "29fdf142-b1b7-4703-9f20-67cf07ed38ff",
   "metadata": {},
   "outputs": [
    {
     "ename": "ZeroDivisionError",
     "evalue": "division by zero",
     "output_type": "error",
     "traceback": [
      "\u001b[1;31m---------------------------------------------------------------------------\u001b[0m",
      "\u001b[1;31mZeroDivisionError\u001b[0m                         Traceback (most recent call last)",
      "Cell \u001b[1;32mIn[14], line 6\u001b[0m\n\u001b[0;32m      4\u001b[0m a \u001b[38;5;241m=\u001b[39m \u001b[38;5;241m10\u001b[39m\n\u001b[0;32m      5\u001b[0m b \u001b[38;5;241m=\u001b[39m \u001b[38;5;241m0\u001b[39m\n\u001b[1;32m----> 6\u001b[0m \u001b[38;5;28mprint\u001b[39m(a\u001b[38;5;241m/\u001b[39mb)\n",
      "\u001b[1;31mZeroDivisionError\u001b[0m: division by zero"
     ]
    }
   ],
   "source": [
    "#84)How many except statements can a try-except block have? Name Some built-in exception classes:\n",
    "\"\"\"There can be as many as except block you want in try-except block, there should atleast one. \n",
    "Built-in exception classes are ArthmeticError, MemoryError,Syntax error,Type error, and ZeroDivisionError.\"\"\"\n",
    "a = 10\n",
    "b = 0\n",
    "print(a/b)\n",
    "#here error shows one of the built-in errors"
   ]
  },
  {
   "cell_type": "code",
   "execution_count": 16,
   "id": "c786d2d9-7d10-4227-befe-f0f6abc679e6",
   "metadata": {},
   "outputs": [
    {
     "name": "stdout",
     "output_type": "stream",
     "text": [
      "6.0\n",
      "division done successfully\n"
     ]
    }
   ],
   "source": [
    "#85)When will the else part of try-except-else be executed? \n",
    "\"\"\"The else keyword is used to define a block of code to be executed if no errors were raised\"\"\"\n",
    "#example\n",
    "a = 12\n",
    "b = 2\n",
    "try:\n",
    "    print(a/b)\n",
    "except:\n",
    "    print(\"error\")\n",
    "else:\n",
    "    print(\"division done successfully\")"
   ]
  },
  {
   "cell_type": "code",
   "execution_count": null,
   "id": "a6e13d11-9978-4e83-b22a-b785c12480c4",
   "metadata": {},
   "outputs": [],
   "source": [
    "#86)Can one block of except statements handle multiple exception?\n",
    "Yes one block of except statements handle multiple exception?"
   ]
  },
  {
   "cell_type": "code",
   "execution_count": 15,
   "id": "985d5561-a8c8-4084-bfe6-74c96dea7432",
   "metadata": {},
   "outputs": [
    {
     "name": "stdout",
     "output_type": "stream",
     "text": [
      "300\n",
      "multiplication program\n",
      "program done\n"
     ]
    }
   ],
   "source": [
    "#87)When is the finally block executed?\n",
    "\"\"\"Finally block is executed regardless of the results of the result of try-except-else block\"\"\"\n",
    "a = 30\n",
    "b = 10\n",
    "try:\n",
    "    print(a*b)\n",
    "except:\n",
    "    print(\"error occured\")\n",
    "else:\n",
    "    print(\"multiplication program\")\n",
    "finally:\n",
    "    print(\"program done\")"
   ]
  },
  {
   "cell_type": "code",
   "execution_count": 55,
   "id": "b6617bf0-157f-4b9d-b7ce-aa22127fd08c",
   "metadata": {},
   "outputs": [],
   "source": [
    "#88)What happens when „1‟== 1 is executed?\n",
    "We get false because \"1\" is used as a string and 1 is used a number which does not make them equal"
   ]
  },
  {
   "cell_type": "code",
   "execution_count": 15,
   "id": "cb30c57a-b02f-4154-8ab8-5baf20f9c04c",
   "metadata": {},
   "outputs": [
    {
     "name": "stdout",
     "output_type": "stream",
     "text": [
      "error\n",
      "error occured\n"
     ]
    }
   ],
   "source": [
    "#89)How Do You Handle Exceptions with Try/Except/Finally in Python? Explain with coding snippets.\n",
    "a = 10\n",
    "b = 0\n",
    "try:\n",
    "    print(a/b)\n",
    "except:\n",
    "    print(\"error\")\n",
    "finally:\n",
    "    print(\"error occured\")"
   ]
  },
  {
   "cell_type": "code",
   "execution_count": 26,
   "id": "8d70acae-0b93-47e1-9c0d-1fde24250dbe",
   "metadata": {},
   "outputs": [
    {
     "name": "stdin",
     "output_type": "stream",
     "text": [
      "enter odd integer 7\n"
     ]
    },
    {
     "name": "stdout",
     "output_type": "stream",
     "text": [
      "False\n"
     ]
    },
    {
     "ename": "Exception",
     "evalue": "Add odd integer",
     "output_type": "error",
     "traceback": [
      "\u001b[1;31m---------------------------------------------------------------------------\u001b[0m",
      "\u001b[1;31mException\u001b[0m                                 Traceback (most recent call last)",
      "Cell \u001b[1;32mIn[26], line 8\u001b[0m\n\u001b[0;32m      6\u001b[0m     \u001b[38;5;28mprint\u001b[39m(\u001b[38;5;124m\"\u001b[39m\u001b[38;5;124minteger is\u001b[39m\u001b[38;5;124m\"\u001b[39m,a)\n\u001b[0;32m      7\u001b[0m \u001b[38;5;28;01melse\u001b[39;00m:\n\u001b[1;32m----> 8\u001b[0m     \u001b[38;5;28;01mraise\u001b[39;00m \u001b[38;5;167;01mException\u001b[39;00m(\u001b[38;5;124m\"\u001b[39m\u001b[38;5;124mAdd odd integer\u001b[39m\u001b[38;5;124m\"\u001b[39m)\n",
      "\u001b[1;31mException\u001b[0m: Add odd integer"
     ]
    }
   ],
   "source": [
    "#90)Write python program that user to enter only odd numbers, else will raise an exception.\n",
    "a = int(input(\"enter odd integer\"))\n",
    "try :\n",
    "    print(a%2==0)\n",
    "except:\n",
    "    print(\"integer is\",a)\n",
    "else:\n",
    "    raise Exception(\"Add odd integer\")\n",
    "\n",
    "#here error occurs because of the program#"
   ]
  }
 ],
 "metadata": {
  "kernelspec": {
   "display_name": "Python 3 (ipykernel)",
   "language": "python",
   "name": "python3"
  },
  "language_info": {
   "codemirror_mode": {
    "name": "ipython",
    "version": 3
   },
   "file_extension": ".py",
   "mimetype": "text/x-python",
   "name": "python",
   "nbconvert_exporter": "python",
   "pygments_lexer": "ipython3",
   "version": "3.11.7"
  }
 },
 "nbformat": 4,
 "nbformat_minor": 5
}
